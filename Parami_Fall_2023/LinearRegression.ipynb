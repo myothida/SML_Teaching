{
 "cells": [
  {
   "cell_type": "code",
   "execution_count": 1,
   "metadata": {},
   "outputs": [],
   "source": [
    "import pandas as pd\n",
    "from sklearn import datasets "
   ]
  },
  {
   "cell_type": "code",
   "execution_count": 2,
   "metadata": {},
   "outputs": [
    {
     "data": {
      "text/plain": [
       "Index(['age', 'sex', 'bmi', 'bp', 's1', 's2', 's3', 's4', 's5', 's6'], dtype='object')"
      ]
     },
     "execution_count": 2,
     "metadata": {},
     "output_type": "execute_result"
    }
   ],
   "source": [
    "data = datasets.load_diabetes()\n",
    "df = pd.DataFrame(data.data, columns=data.feature_names)\n",
    "\n",
    "X = data.data #input \n",
    "\n",
    "y = data.target #output\n",
    "\n",
    "df.to_csv('diabetes_data.csv', index = False)\n",
    "df.columns"
   ]
  },
  {
   "cell_type": "markdown",
   "metadata": {},
   "source": [
    "### data preprocessing : clean the data, convert the categorical (text) to numerical values\n",
    "### input to ML model must be number. (X - input, y- output) \n",
    "\n",
    "#### Step 1: split the data into training and testing set (to avoid overfit)\n",
    "\n",
    "#### Step 2: train ML model using the available training set\n",
    "\n",
    "#### Step 3: evaluate the performance for the training set, testing set \n",
    "\n",
    "#### Step 4: fine-tune parameters to balance the performance "
   ]
  },
  {
   "cell_type": "code",
   "execution_count": 3,
   "metadata": {},
   "outputs": [],
   "source": [
    "from sklearn.model_selection import train_test_split\n",
    "from sklearn.preprocessing import StandardScaler, PolynomialFeatures\n",
    "from sklearn.linear_model import LinearRegression\n",
    "from sklearn.impute import SimpleImputer\n",
    "from sklearn.pipeline import Pipeline\n"
   ]
  },
  {
   "cell_type": "code",
   "execution_count": 4,
   "metadata": {},
   "outputs": [],
   "source": [
    "def my_linear_regression(X_train,y_train):\n",
    "    \n",
    "    steps = [(\"imp_mean\", SimpleImputer()), # cleaning the data - replace the missing data with average\n",
    "            (\"scale\", StandardScaler()),  #standardizing the data \n",
    "            (\"linear\", LinearRegression()) ] # linear model - ML \n",
    "\n",
    "    pipeline = Pipeline(steps)\n",
    "\n",
    "    model = pipeline.fit(X_train, y_train)\n",
    " \n",
    "\n",
    "    linear_regressor = pipeline.named_steps['linear']\n",
    "\n",
    "    return model, linear_regressor.intercept_, linear_regressor.coef_"
   ]
  },
  {
   "cell_type": "code",
   "execution_count": 5,
   "metadata": {},
   "outputs": [
    {
     "data": {
      "text/html": [
       "<div>\n",
       "<style scoped>\n",
       "    .dataframe tbody tr th:only-of-type {\n",
       "        vertical-align: middle;\n",
       "    }\n",
       "\n",
       "    .dataframe tbody tr th {\n",
       "        vertical-align: top;\n",
       "    }\n",
       "\n",
       "    .dataframe thead th {\n",
       "        text-align: right;\n",
       "    }\n",
       "</style>\n",
       "<table border=\"1\" class=\"dataframe\">\n",
       "  <thead>\n",
       "    <tr style=\"text-align: right;\">\n",
       "      <th></th>\n",
       "      <th>coef</th>\n",
       "      <th>mae_tr</th>\n",
       "      <th>mae_test</th>\n",
       "      <th>r2_tr</th>\n",
       "      <th>r2_test</th>\n",
       "    </tr>\n",
       "  </thead>\n",
       "  <tbody>\n",
       "    <tr>\n",
       "      <th>age</th>\n",
       "      <td>14.674768</td>\n",
       "      <td>63.749998</td>\n",
       "      <td>63.749998</td>\n",
       "      <td>0.036011</td>\n",
       "      <td>0.036011</td>\n",
       "    </tr>\n",
       "    <tr>\n",
       "      <th>sex</th>\n",
       "      <td>3.284119</td>\n",
       "      <td>64.634123</td>\n",
       "      <td>64.634123</td>\n",
       "      <td>0.001804</td>\n",
       "      <td>0.001804</td>\n",
       "    </tr>\n",
       "    <tr>\n",
       "      <th>bmi</th>\n",
       "      <td>46.949899</td>\n",
       "      <td>50.952191</td>\n",
       "      <td>50.952191</td>\n",
       "      <td>0.368608</td>\n",
       "      <td>0.368608</td>\n",
       "    </tr>\n",
       "    <tr>\n",
       "      <th>bp</th>\n",
       "      <td>33.599098</td>\n",
       "      <td>56.148453</td>\n",
       "      <td>56.148453</td>\n",
       "      <td>0.188778</td>\n",
       "      <td>0.188778</td>\n",
       "    </tr>\n",
       "    <tr>\n",
       "      <th>s1</th>\n",
       "      <td>13.814511</td>\n",
       "      <td>63.539433</td>\n",
       "      <td>63.539433</td>\n",
       "      <td>0.031913</td>\n",
       "      <td>0.031913</td>\n",
       "    </tr>\n",
       "    <tr>\n",
       "      <th>s2</th>\n",
       "      <td>11.950290</td>\n",
       "      <td>63.950134</td>\n",
       "      <td>63.950134</td>\n",
       "      <td>0.023881</td>\n",
       "      <td>0.023881</td>\n",
       "    </tr>\n",
       "    <tr>\n",
       "      <th>s3</th>\n",
       "      <td>-30.810016</td>\n",
       "      <td>59.305884</td>\n",
       "      <td>59.305884</td>\n",
       "      <td>0.158737</td>\n",
       "      <td>0.158737</td>\n",
       "    </tr>\n",
       "    <tr>\n",
       "      <th>s4</th>\n",
       "      <td>32.419228</td>\n",
       "      <td>57.813049</td>\n",
       "      <td>57.813049</td>\n",
       "      <td>0.175752</td>\n",
       "      <td>0.175752</td>\n",
       "    </tr>\n",
       "    <tr>\n",
       "      <th>s5</th>\n",
       "      <td>39.933342</td>\n",
       "      <td>53.885601</td>\n",
       "      <td>53.885601</td>\n",
       "      <td>0.266665</td>\n",
       "      <td>0.266665</td>\n",
       "    </tr>\n",
       "    <tr>\n",
       "      <th>s6</th>\n",
       "      <td>29.223907</td>\n",
       "      <td>59.602078</td>\n",
       "      <td>59.602078</td>\n",
       "      <td>0.142814</td>\n",
       "      <td>0.142814</td>\n",
       "    </tr>\n",
       "  </tbody>\n",
       "</table>\n",
       "</div>"
      ],
      "text/plain": [
       "          coef     mae_tr   mae_test     r2_tr   r2_test\n",
       "age  14.674768  63.749998  63.749998  0.036011  0.036011\n",
       "sex   3.284119  64.634123  64.634123  0.001804  0.001804\n",
       "bmi  46.949899  50.952191  50.952191  0.368608  0.368608\n",
       "bp   33.599098  56.148453  56.148453  0.188778  0.188778\n",
       "s1   13.814511  63.539433  63.539433  0.031913  0.031913\n",
       "s2   11.950290  63.950134  63.950134  0.023881  0.023881\n",
       "s3  -30.810016  59.305884  59.305884  0.158737  0.158737\n",
       "s4   32.419228  57.813049  57.813049  0.175752  0.175752\n",
       "s5   39.933342  53.885601  53.885601  0.266665  0.266665\n",
       "s6   29.223907  59.602078  59.602078  0.142814  0.142814"
      ]
     },
     "execution_count": 5,
     "metadata": {},
     "output_type": "execute_result"
    }
   ],
   "source": [
    "import matplotlib.pyplot as plt\n",
    "from sklearn.metrics import mean_absolute_error, mean_squared_error, r2_score\n",
    "\n",
    "df_slr = {}\n",
    "for input in df.columns:\n",
    "    X = df[[input]].values\n",
    "    X_train, X_test, y_train, y_test = train_test_split(X,y, test_size = 0.4, random_state = 42)\n",
    "    model, a, b = my_linear_regression(X_train,y_train) \n",
    "    y_pred = model.predict(X_train)    \n",
    "    mae_tr = mean_absolute_error(y_train, y_pred)\n",
    "    r2_tr = r2_score(y_train,y_pred)\n",
    "    y_pred = model.predict(X_train)    \n",
    "    mae = mean_absolute_error(y_train, y_pred)    \n",
    "    r2 = r2_score(y_train,y_pred)\n",
    "   # plt.scatter(X_train, y_train, label='Data Points')\n",
    "   # plt.plot(X_train, y_pred, color='red', label='Linear Regression')\n",
    "   # plt.show()   \n",
    "    df_slr[input] = [b[0], mae_tr, mae,  r2_tr, r2]\n",
    "\n",
    "df_simple = pd.DataFrame.from_dict(df_slr, orient ='index')\n",
    "df_simple.columns = ['coef', 'mae_tr', 'mae_test', 'r2_tr', 'r2_test']\n",
    "\n",
    "df_simple"
   ]
  },
  {
   "cell_type": "code",
   "execution_count": 6,
   "metadata": {},
   "outputs": [
    {
     "name": "stdout",
     "output_type": "stream",
     "text": [
      "training\n",
      "mae: 44 mse: 2947 r2 score: 0.51\n",
      "testing\n",
      "mae: 42 mse: 2833 r2 score: 0.52\n"
     ]
    }
   ],
   "source": [
    "X = df.values\n",
    "X_train, X_test, y_train, y_test = train_test_split(X,y, test_size = 0.4, random_state = 42)\n",
    "\n",
    "model, a, b = my_linear_regression(X_train,y_train) \n",
    "y_pred = model.predict(X_train) \n",
    "    \n",
    "mae = mean_absolute_error(y_train, y_pred)\n",
    "mse = mean_squared_error(y_train, y_pred)\n",
    "r2 = r2_score(y_train,y_pred)\n",
    "print('training')\n",
    "print('mae:', round(mae), 'mse:', round(mse), 'r2 score:', round(r2, 2))\n",
    "\n",
    "y_pred = model.predict(X_test)\n",
    "mae = mean_absolute_error(y_test, y_pred)\n",
    "mse = mean_squared_error(y_test, y_pred)\n",
    "r2 = r2_score(y_test,y_pred)\n",
    "print('testing')\n",
    "print('mae:', round(mae), 'mse:', round(mse), 'r2 score:', round(r2, 2))"
   ]
  }
 ],
 "metadata": {
  "kernelspec": {
   "display_name": "base",
   "language": "python",
   "name": "python3"
  },
  "language_info": {
   "codemirror_mode": {
    "name": "ipython",
    "version": 3
   },
   "file_extension": ".py",
   "mimetype": "text/x-python",
   "name": "python",
   "nbconvert_exporter": "python",
   "pygments_lexer": "ipython3",
   "version": "3.9.13"
  },
  "orig_nbformat": 4
 },
 "nbformat": 4,
 "nbformat_minor": 2
}
