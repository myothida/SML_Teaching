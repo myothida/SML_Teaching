{
 "cells": [
  {
   "cell_type": "code",
   "execution_count": 1,
   "metadata": {},
   "outputs": [],
   "source": [
    "import pandas as pd\n",
    "from sklearn import datasets \n",
    "from sklearn.model_selection import train_test_split\n",
    "from sklearn.preprocessing import StandardScaler, PolynomialFeatures, MinMaxScaler\n",
    "from sklearn.linear_model import LinearRegression\n",
    "from sklearn.impute import SimpleImputer\n",
    "from sklearn.pipeline import Pipeline\n",
    "from sklearn.metrics import mean_absolute_error, mean_squared_error, r2_score\n"
   ]
  },
  {
   "cell_type": "code",
   "execution_count": 2,
   "metadata": {},
   "outputs": [
    {
     "data": {
      "text/plain": [
       "Index(['age', 'sex', 'bmi', 'bp', 's1', 's2', 's3', 's4', 's5', 's6'], dtype='object')"
      ]
     },
     "execution_count": 2,
     "metadata": {},
     "output_type": "execute_result"
    }
   ],
   "source": [
    "data = datasets.load_diabetes()\n",
    "df = pd.DataFrame(data.data, columns=data.feature_names)\n",
    "\n",
    "X = data.data #input \n",
    "\n",
    "y = data.target #output\n",
    "\n",
    "df.to_csv('diabetes_data.csv', index = False)\n",
    "df.columns"
   ]
  },
  {
   "cell_type": "code",
   "execution_count": 3,
   "metadata": {},
   "outputs": [
    {
     "name": "stdout",
     "output_type": "stream",
     "text": [
      "training\n",
      "mae: 39 mse: 2409 r2 score: 0.61\n",
      "testing\n",
      "mae: 44 mse: 3175 r2 score: 0.41\n"
     ]
    }
   ],
   "source": [
    "X_train, X_test, y_train, y_test = train_test_split(X,y, test_size = 0.3, random_state = 42)\n",
    "\n",
    "steps = [(\"imp_mean\", SimpleImputer()), # cleaning the data - replace the missing data with average\n",
    "            (\"scale\", StandardScaler()),  #standardizing the data \n",
    "            ('transform', PolynomialFeatures(degree=2)),\n",
    "            (\"linear\", LinearRegression()) ] # linear model - ML \n",
    "\n",
    "pipeline = Pipeline(steps)\n",
    "\n",
    "model = pipeline.fit(X_train, y_train)\n",
    "\n",
    "y_pred = model.predict(X_train) \n",
    "    \n",
    "mae = mean_absolute_error(y_train, y_pred)\n",
    "mse = mean_squared_error(y_train, y_pred)\n",
    "r2 = r2_score(y_train,y_pred)\n",
    "print('training')\n",
    "print('mae:', round(mae), 'mse:', round(mse), 'r2 score:', round(r2, 2))\n",
    "\n",
    "y_pred = model.predict(X_test)\n",
    "mae = mean_absolute_error(y_test, y_pred)\n",
    "mse = mean_squared_error(y_test, y_pred)\n",
    "r2 = r2_score(y_test,y_pred)\n",
    "print('testing')\n",
    "print('mae:', round(mae), 'mse:', round(mse), 'r2 score:', round(r2, 2))"
   ]
  }
 ],
 "metadata": {
  "kernelspec": {
   "display_name": "base",
   "language": "python",
   "name": "python3"
  },
  "language_info": {
   "codemirror_mode": {
    "name": "ipython",
    "version": 3
   },
   "file_extension": ".py",
   "mimetype": "text/x-python",
   "name": "python",
   "nbconvert_exporter": "python",
   "pygments_lexer": "ipython3",
   "version": "3.9.13"
  },
  "orig_nbformat": 4
 },
 "nbformat": 4,
 "nbformat_minor": 2
}
