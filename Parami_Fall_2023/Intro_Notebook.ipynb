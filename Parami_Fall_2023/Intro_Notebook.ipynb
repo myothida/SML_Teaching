{
  "cells": [
    {
      "cell_type": "markdown",
      "metadata": {
        "id": "vD5NtsHxJADE"
      },
      "source": [
        "This Python notebook aims to familiarize students with working on Jupyter Notebooks.\n",
        "\n",
        "Choose one of the following questions and answer in the corrsponding cell where your name is.\n",
        "\n",
        "1) Why do you think some teachers can answer most of your questions, while others cannot?\n",
        "\n",
        "2) When you ask questions like why you should study data analysis or which course is better, why do some teachers give general answers?\n",
        "\n",
        "3) Choose any topic related to social change, machine learning, or Python programming, and provide your insights or reflections on it.\n",
        "\n",
        "Happy learning!\n",
        "\n"
      ]
    },
    {
      "cell_type": "markdown",
      "source": [
        "Test student.\n",
        "1) added from test"
      ],
      "metadata": {
        "id": "87Sh8JeaRKoQ"
      }
    },
    {
      "cell_type": "markdown",
      "source": [
        "Aye Thiri Aung"
      ],
      "metadata": {
        "id": "_gT_Vf_3pN5Y"
      }
    },
    {
      "cell_type": "markdown",
      "source": [
        "Zin Zin Aung\n",
        "\n"
      ],
      "metadata": {
        "id": "SndfbOHkpXaX"
      }
    },
    {
      "cell_type": "markdown",
      "source": [
        "Thet Mon Aye   \n",
        "Some teachers cannot answer most questions because they dont have enough data/knowledge.\n",
        "\n",
        "\n",
        "\n",
        "\n"
      ],
      "metadata": {
        "id": "s3uVzkutpZfY"
      }
    },
    {
      "cell_type": "markdown",
      "source": [
        "Sandi Htut Htut\n"
      ],
      "metadata": {
        "id": "Qt5rTEJjpc2f"
      }
    },
    {
      "cell_type": "markdown",
      "source": [
        "Gokul Khanal"
      ],
      "metadata": {
        "id": "AKsEDTPequYI"
      }
    },
    {
      "cell_type": "markdown",
      "source": [
        "Hsu Yee Mon\n"
      ],
      "metadata": {
        "id": "Ie-qcCoOqybR"
      }
    },
    {
      "cell_type": "markdown",
      "source": [
        "Ei Ei Phyu"
      ],
      "metadata": {
        "id": "37RVRao5q9gP"
      }
    },
    {
      "cell_type": "markdown",
      "source": [
        "Swum Pyae Sone"
      ],
      "metadata": {
        "id": "OzX0v8_HrR2_"
      }
    },
    {
      "cell_type": "markdown",
      "source": [
        "Eaint Khaing Su"
      ],
      "metadata": {
        "id": "Biw2chv2rSoJ"
      }
    },
    {
      "cell_type": "markdown",
      "source": [
        "Mary Zai Hnem Sung"
      ],
      "metadata": {
        "id": "WvArWQkErVxb"
      }
    },
    {
      "cell_type": "markdown",
      "source": [
        "Nan Pyae Nyein Thar"
      ],
      "metadata": {
        "id": "27N3LfRXreIe"
      }
    },
    {
      "cell_type": "markdown",
      "source": [
        "Kant Kaw Thinn"
      ],
      "metadata": {
        "id": "LEP5b0PRrezv"
      }
    },
    {
      "cell_type": "markdown",
      "source": [
        "Si Thu"
      ],
      "metadata": {
        "id": "jxGycwozrjnl"
      }
    }
  ],
  "metadata": {
    "language_info": {
      "name": "python"
    },
    "orig_nbformat": 4,
    "colab": {
      "provenance": []
    },
    "kernelspec": {
      "name": "python3",
      "display_name": "Python 3"
    }
  },
  "nbformat": 4,
  "nbformat_minor": 0
}