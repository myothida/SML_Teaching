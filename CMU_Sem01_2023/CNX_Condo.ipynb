{
  "cells": [
    {
      "cell_type": "code",
      "execution_count": 87,
      "metadata": {
        "id": "7KSSlWKYlHPW",
        "outputId": "c663e41d-7eed-40b2-e06f-89229d3360eb",
        "colab": {
          "base_uri": "https://localhost:8080/"
        }
      },
      "outputs": [
        {
          "output_type": "stream",
          "name": "stdout",
          "text": [
            "<class 'pandas.core.frame.DataFrame'>\n",
            "RangeIndex: 17000 entries, 0 to 16999\n",
            "Data columns (total 9 columns):\n",
            " #   Column              Non-Null Count  Dtype  \n",
            "---  ------              --------------  -----  \n",
            " 0   longitude           17000 non-null  float64\n",
            " 1   latitude            17000 non-null  float64\n",
            " 2   housing_median_age  17000 non-null  float64\n",
            " 3   total_rooms         17000 non-null  float64\n",
            " 4   total_bedrooms      17000 non-null  float64\n",
            " 5   population          17000 non-null  float64\n",
            " 6   households          17000 non-null  float64\n",
            " 7   median_income       17000 non-null  float64\n",
            " 8   median_house_value  17000 non-null  float64\n",
            "dtypes: float64(9)\n",
            "memory usage: 1.2 MB\n"
          ]
        }
      ],
      "source": [
        "import pandas as pd\n",
        "df = pd.read_csv('./sample_data/california_housing_train.csv')\n",
        "y = df['median_house_value']\n",
        "X = df.drop(['median_house_value'], axis = 'columns')\n",
        "df.info()"
      ]
    },
    {
      "cell_type": "code",
      "execution_count": 88,
      "metadata": {
        "id": "1VO_zgyxOemG",
        "outputId": "cedea2fd-7df4-46ad-bffc-765acac98c7c",
        "colab": {
          "base_uri": "https://localhost:8080/"
        }
      },
      "outputs": [
        {
          "output_type": "execute_result",
          "data": {
            "text/plain": [
              "(5100, 8)"
            ]
          },
          "metadata": {},
          "execution_count": 88
        }
      ],
      "source": [
        "from sklearn.model_selection import train_test_split\n",
        "\n",
        "X_train, X_test, y_train, y_test = train_test_split(X,y, test_size = 0.3)\n",
        "X_test.shape"
      ]
    },
    {
      "cell_type": "code",
      "execution_count": 89,
      "metadata": {
        "id": "3oJp8VqYOemF"
      },
      "outputs": [],
      "source": [
        "from sklearn.preprocessing import StandardScaler, PolynomialFeatures\n",
        "from sklearn.linear_model import LinearRegression\n",
        "from sklearn.impute import SimpleImputer\n",
        "\n",
        "from sklearn.pipeline import Pipeline\n",
        "from sklearn.metrics import mean_absolute_error, mean_squared_error, r2_score\n",
        "import joblib\n",
        "import matplotlib.pyplot as plt\n",
        "\n",
        "def train_model(degree):\n",
        "    steps = [(\"imp_mean\", SimpleImputer()),\n",
        "              (\"scale\", StandardScaler()),\n",
        "              (\"polytransform\", PolynomialFeatures(degree = degree)),\n",
        "                (\"linear\", LinearRegression()) ]\n",
        "\n",
        "    pipeline = Pipeline(steps)\n",
        "\n",
        "    model = pipeline.fit(X_train, y_train)\n",
        "    #joblib.dump(model,'modelsteps.joblib')\n",
        "\n",
        "    y_pred = model.predict(X_train)\n",
        "\n",
        "    mae = mean_absolute_error(y_train, y_pred)\n",
        "    mse = mean_squared_error(y_train, y_pred)\n",
        "    r2 = r2_score(y_train,y_pred)\n",
        "    #print('mae:', round(mae), 'mse:', round(mse), 'r2 score:', round(r2, 2))\n",
        "\n",
        "    y_predt = model.predict(X_test)\n",
        "\n",
        "    mae_t= mean_absolute_error(y_test, y_predt)\n",
        "    mse_t = mean_squared_error(y_test, y_predt)\n",
        "    r2_t = r2_score(y_test,y_predt)\n",
        "\n",
        "    return mae, mse, r2, mae_t, mse_t, r2_t"
      ]
    },
    {
      "cell_type": "code",
      "source": [
        "r2List = []\n",
        "r2_tList = []\n",
        "for degree in range(1, 5):\n",
        "    mae, mse, r2, mae_t, mse_t, r2_t = train_model(degree)\n",
        "    r2List.append(round(r2, 2))\n",
        "    r2_tList.append(round(r2_t, 2))\n",
        "\n",
        "    #print('degree', round(degree), 'mae:',round(mae), 'mse:',round(mse), 'r2 score:' , round(r2,2), 'mae_t:' ,round(mae_t)  , 'mse_t:' , round(mse_t), 'r2_t score:' , round(r2_t,2))\n"
      ],
      "metadata": {
        "id": "TisePQ08nSjk"
      },
      "execution_count": 90,
      "outputs": []
    },
    {
      "cell_type": "markdown",
      "source": [],
      "metadata": {
        "id": "V6H6YOfT-Ul_"
      }
    },
    {
      "cell_type": "code",
      "source": [
        "\n",
        "dfr2 = pd.DataFrame({'degree':[1,2,3,4], 'train': r2List, 'test': r2_tList})\n",
        "dfr2\n",
        "\n",
        "dfr2.plot(x='degree', y=['train', 'test'], kind='line', title='r2%degree')\n",
        "plt.xlabel('degree')\n",
        "plt.ylabel('r2')\n",
        "plt.show()\n"
      ],
      "metadata": {
        "id": "vxQJLJ8c9l5v",
        "outputId": "0084565f-7053-4a45-8c4f-13bf72fa2d96",
        "colab": {
          "base_uri": "https://localhost:8080/",
          "height": 472
        }
      },
      "execution_count": 91,
      "outputs": [
        {
          "output_type": "display_data",
          "data": {
            "text/plain": [
              "<Figure size 640x480 with 1 Axes>"
            ],
            "image/png": "[encoded data removed]"
          },
          "metadata": {}
        }
      ]
    },
    {
      "cell_type": "code",
      "source": [
        "steps = [(\"imp_mean\", SimpleImputer()),\n",
        "              (\"scale\", StandardScaler()),\n",
        "              (\"polytransform\", PolynomialFeatures(degree = 3)),\n",
        "                (\"linear\", LinearRegression()) ]\n",
        "\n",
        "pipeline = Pipeline(steps)\n",
        "\n",
        "model = pipeline.fit(X_train, y_train)\n",
        "joblib.dump(model,'modelsteps.joblib')"
      ],
      "metadata": {
        "id": "kXLQBBY_Asc6",
        "outputId": "418af3e9-0147-4776-bb23-157d3658bf90",
        "colab": {
          "base_uri": "https://localhost:8080/"
        }
      },
      "execution_count": 92,
      "outputs": [
        {
          "output_type": "execute_result",
          "data": {
            "text/plain": [
              "['modelsteps.joblib']"
            ]
          },
          "metadata": {},
          "execution_count": 92
        }
      ]
    },
    {
      "cell_type": "code",
      "source": [],
      "metadata": {
        "id": "xSWaWzqaBfIP"
      },
      "execution_count": 92,
      "outputs": []
    }
  ],
  "metadata": {
    "kernelspec": {
      "display_name": "base",
      "language": "python",
      "name": "python3"
    },
    "language_info": {
      "codemirror_mode": {
        "name": "ipython",
        "version": 3
      },
      "file_extension": ".py",
      "mimetype": "text/x-python",
      "name": "python",
      "nbconvert_exporter": "python",
      "pygments_lexer": "ipython3",
      "version": "3.9.13"
    },
    "orig_nbformat": 4,
    "colab": {
      "provenance": []
    }
  },
  "nbformat": 4,
  "nbformat_minor": 0
}