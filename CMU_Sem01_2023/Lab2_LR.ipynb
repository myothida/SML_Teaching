{
 "cells": [
  {
   "cell_type": "code",
   "execution_count": null,
   "metadata": {},
   "outputs": [],
   "source": [
    "import pandas as pd\n",
    "\n",
    "df=pd.read_csv('..\\\\data\\\\fraud.csv', index_col = 0)\n",
    "y = df['Class'].values\n",
    "df = df.iloc[:,1:]\n",
    "X = df.drop(columns = 'Class').values"
   ]
  },
  {
   "cell_type": "code",
   "execution_count": null,
   "metadata": {},
   "outputs": [],
   "source": [
    "from sklearn.model_selection import train_test_split\n",
    "\n",
    "X_train, X_test, y_train, y_test = train_test_split(X,y, \n",
    "                                    test_size = 0.40, \n",
    "                                    random_state=1)"
   ]
  },
  {
   "cell_type": "code",
   "execution_count": null,
   "metadata": {},
   "outputs": [],
   "source": [
    "from sklearn.preprocessing import StandardScaler\n",
    "from sklearn.pipeline import Pipeline\n",
    "\n",
    "#--------------------------------------------------\n",
    "## ------------Logistic Regresion----------------## \n",
    "#--------------------------------------------------\n",
    "\n",
    "from sklearn.linear_model import LogisticRegression\n",
    "\n",
    "steps = [('scaler', StandardScaler()),         \n",
    "         ('logReg', LogisticRegression(penalty = \"l2\", C = 1.0))]\n",
    "\n",
    "LR_pipeline = Pipeline(steps)\n",
    "LR_pipeline.fit(X_train, y_train)"
   ]
  },
  {
   "cell_type": "code",
   "execution_count": null,
   "metadata": {},
   "outputs": [],
   "source": [
    "#--------------------------------------------------\n",
    "## Model Evaluation ## \n",
    "#--------------------------------------------------\n",
    "from sklearn.metrics import classification_report\n",
    "from sklearn.metrics import confusion_matrix\n",
    "from sklearn.metrics import roc_auc_score\n",
    "\n",
    "\n",
    "ypred_test = LR_pipeline.predict(X_test)\n",
    "mat_clf = confusion_matrix(y_test, ypred_test)\n",
    "report_clf = classification_report(y_test, ypred_test)\n",
    "\n",
    "print(mat_clf)\n",
    "print(report_clf)\n",
    "\n",
    "ypred_testP = LR_pipeline.predict_proba(X_test)\n",
    "auc = roc_auc_score(y_test, ypred_testP[:,1])\n",
    "print(auc)"
   ]
  },
  {
   "cell_type": "code",
   "execution_count": null,
   "metadata": {},
   "outputs": [],
   "source": [
    "ypred_train = LR_pipeline.predict(X_train)\n",
    "mat_clf = confusion_matrix(y_train, ypred_train)\n",
    "report_clf = classification_report(y_train, ypred_train)\n",
    "\n",
    "print(mat_clf)\n",
    "print(report_clf)\n",
    "\n",
    "ypred_trainP = LR_pipeline.predict_proba(X_train)\n",
    "auc = roc_auc_score(y_train, ypred_trainP[:,1])\n",
    "print(auc)"
   ]
  }
 ],
 "metadata": {
  "kernelspec": {
   "display_name": "Python 3",
   "language": "python",
   "name": "python3"
  },
  "language_info": {
   "codemirror_mode": {
    "name": "ipython",
    "version": 3
   },
   "file_extension": ".py",
   "mimetype": "text/x-python",
   "name": "python",
   "nbconvert_exporter": "python",
   "pygments_lexer": "ipython3",
   "version": "3.11.0"
  },
  "orig_nbformat": 4,
  "vscode": {
   "interpreter": {
    "hash": "ebfc0a8d552866b0d59eba665220a57de3bc06f3ac643b8bef38dd8f66781fdd"
   }
  }
 },
 "nbformat": 4,
 "nbformat_minor": 2
}
