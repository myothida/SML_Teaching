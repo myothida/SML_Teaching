{
 "cells": [
  {
   "cell_type": "code",
   "execution_count": 13,
   "metadata": {},
   "outputs": [],
   "source": [
    "import pandas as pd\n",
    "\n",
    "df=pd.read_csv('..\\\\data\\\\fraud.csv', index_col = 0)\n",
    "\n",
    "# Check your data and define X and y : What is X and what is y? \n",
    "y = df['Class'].values\n",
    "df = df.iloc[:,1:]\n",
    "X = df.drop(columns = 'Class').values"
   ]
  },
  {
   "cell_type": "code",
   "execution_count": 19,
   "metadata": {},
   "outputs": [],
   "source": [
    "# perform train - test split. (40% as testing and 60% as training)\n",
    "from sklearn.model_selection import train_test_split\n",
    "from sklearn.preprocessing import StandardScaler\n",
    "from sklearn.pipeline import Pipeline\n",
    "from sklearn.metrics import classification_report\n",
    "from sklearn.metrics import confusion_matrix\n",
    "from sklearn.metrics import roc_auc_score\n",
    "\n",
    "#X_train, X_test, y_train, y_test = train_test_split()\n",
    "\n",
    "X_train, X_test, y_train, y_test = train_test_split(X,y, \n",
    "                                    test_size = 0.40, \n",
    "                                    random_state=1)"
   ]
  },
  {
   "cell_type": "code",
   "execution_count": 20,
   "metadata": {},
   "outputs": [],
   "source": [
    "def my_KNN_classifier(X_train, y_train):\n",
    "    #--------------------------------------------------\n",
    "    ## ----------- K-NN Classifier ------------------## \n",
    "    #--------------------------------------------------\n",
    "\n",
    "    from sklearn.neighbors import KNeighborsClassifier\n",
    "\n",
    "    steps = [('scaler', StandardScaler()),         \n",
    "            ('knn', KNeighborsClassifier(n_neighbors = 3))]\n",
    "\n",
    "    knn_pipeline = Pipeline(steps)\n",
    "    knn_pipeline.fit(X_train, y_train)\n",
    "\n",
    "    #--------------------------------------------------\n",
    "    ## Model Evaluation ## \n",
    "    #--------------------------------------------------\n",
    "\n",
    "\n",
    "    ypred_test = knn_pipeline.predict(X_test)\n",
    "    report_clf = classification_report(y_test, ypred_test, output_dict= True)\n",
    "\n",
    "    macro_avg_precision = report_clf['macro avg']['precision']\n",
    "    macro_avg_recall = report_clf['macro avg']['recall']\n",
    "    \n",
    "    return macro_avg_precision, macro_avg_recall"
   ]
  },
  {
   "cell_type": "code",
   "execution_count": 21,
   "metadata": {},
   "outputs": [],
   "source": [
    "def my_SVC_classifier(X_train, y_train):\n",
    "    from sklearn.svm import SVC\n",
    "\n",
    "    ## Linear Kernel  ---------------\n",
    "    steps = [('scaler', StandardScaler()),         \n",
    "            ('svc', SVC(kernel = 'linear',\n",
    "                        class_weight='balanced'))]\n",
    "\n",
    "    svcL_pipeline = Pipeline(steps)\n",
    "    svcL_pipeline.fit(X_train, y_train)\n",
    "    ypred_test = svcL_pipeline.predict(X_test)\n",
    "    report_clf = classification_report(y_test, ypred_test, output_dict= True)\n",
    "    \n",
    "    lr_precision = report_clf['macro avg']['precision']\n",
    "    lr_recall = report_clf['macro avg']['recall']\n",
    "\n",
    "    ## Polynomial Kernel -----------------------\n",
    "    steps = [('scaler', StandardScaler()),         \n",
    "            ('svc', SVC(kernel = 'poly', degree = 3, \n",
    "                        class_weight='balanced'))]\n",
    "\n",
    "    svcPoly_pipeline = Pipeline(steps)\n",
    "    svcPoly_pipeline.fit(X_train, y_train)\n",
    "    ypred_test = svcPoly_pipeline.predict(X_test)\n",
    "    report_clf = classification_report(y_test, ypred_test, output_dict= True)\n",
    "    \n",
    "    poly_precision = report_clf['macro avg']['precision']\n",
    "    poly_recall = report_clf['macro avg']['recall']\n",
    "\n",
    "    ## RBF Kernel -----------------------\n",
    "    steps = [('scaler', StandardScaler()),         \n",
    "            ('svc', SVC(kernel = 'rbf', gamma = 'scale',\n",
    "                        class_weight='balanced'))]\n",
    "\n",
    "    svcRBF_pipeline = Pipeline(steps)\n",
    "    svcRBF_pipeline.fit(X_train, y_train)\n",
    "    ypred_test = svcRBF_pipeline.predict(X_test)\n",
    "    report_clf = classification_report(y_test, ypred_test, output_dict= True)\n",
    "\n",
    "    rbf_precision = report_clf['macro avg']['precision']\n",
    "    rbf_recall = report_clf['macro avg']['recall']\n",
    "    \n",
    "    return lr_precision, lr_recall, poly_precision, poly_recall, rbf_precision, rbf_recall"
   ]
  },
  {
   "cell_type": "code",
   "execution_count": 29,
   "metadata": {},
   "outputs": [
    {
     "name": "stderr",
     "output_type": "stream",
     "text": [
      "c:\\Users\\User\\anaconda3\\lib\\site-packages\\sklearn\\neighbors\\_classification.py:228: FutureWarning: Unlike other reduction functions (e.g. `skew`, `kurtosis`), the default behavior of `mode` typically preserves the axis it acts along. In SciPy 1.11.0, this behavior will change: the default value of `keepdims` will become False, the `axis` over which the statistic is taken will be eliminated, and the value None will no longer be accepted. Set `keepdims` to True or False to avoid this warning.\n",
      "  mode, _ = stats.mode(_y[neigh_ind, k], axis=1)\n"
     ]
    }
   ],
   "source": [
    "df_slr = {}\n",
    "knn_p, knn_recall = my_KNN_classifier(X_train, y_train)\n",
    "df_slr['KNN'] = [knn_p, knn_recall]\n",
    "lr_precision, lr_recall, poly_precision, poly_recall, rbf_precision, rbf_recall = my_SVC_classifier(X_train, y_train)\n",
    "df_slr['SVC-linear'] = [lr_precision, lr_recall]\n",
    "df_slr['SVC-Poly'] = [poly_precision, poly_recall]\n",
    "df_slr['SVC-rbf'] = [rbf_precision, rbf_recall]\n",
    "df_table = pd.DataFrame.from_dict(df_slr, orient ='index')   \n",
    "df_table.columns = ['precision', 'recall'] "
   ]
  }
 ],
 "metadata": {
  "kernelspec": {
   "display_name": "base",
   "language": "python",
   "name": "python3"
  },
  "language_info": {
   "codemirror_mode": {
    "name": "ipython",
    "version": 3
   },
   "file_extension": ".py",
   "mimetype": "text/x-python",
   "name": "python",
   "nbconvert_exporter": "python",
   "pygments_lexer": "ipython3",
   "version": "3.9.13"
  },
  "orig_nbformat": 4
 },
 "nbformat": 4,
 "nbformat_minor": 2
}
