{
 "cells": [
  {
   "cell_type": "code",
   "execution_count": 1,
   "metadata": {},
   "outputs": [],
   "source": [
    "import pandas as pd\n",
    "\n",
    "df=pd.read_csv('..\\\\data\\\\fraud.csv', index_col = 0)\n",
    "y = df['Class'].values\n",
    "df = df.iloc[:,1:]\n",
    "X = df.drop(columns = 'Class').values"
   ]
  },
  {
   "cell_type": "code",
   "execution_count": 2,
   "metadata": {},
   "outputs": [],
   "source": [
    "from sklearn.model_selection import train_test_split\n",
    "\n",
    "X_train, X_test, y_train, y_test = train_test_split(X,y, \n",
    "                                    test_size = 0.40, \n",
    "                                    random_state=1)"
   ]
  },
  {
   "cell_type": "code",
   "execution_count": 3,
   "metadata": {},
   "outputs": [
    {
     "data": {
      "text/plain": [
       "Pipeline(steps=[('scaler', StandardScaler()),\n",
       "                ('svc', SVC(class_weight='balanced'))])"
      ]
     },
     "execution_count": 3,
     "metadata": {},
     "output_type": "execute_result"
    }
   ],
   "source": [
    "from sklearn.preprocessing import StandardScaler\n",
    "from sklearn.pipeline import Pipeline\n",
    "\n",
    "#--------------------------------------------------\n",
    "## ------------ SVM Classifier ------------------## \n",
    "#--------------------------------------------------\n",
    "\n",
    "from sklearn.svm import SVC\n",
    "\n",
    "## Linear Kernel  ---------------\n",
    "steps = [('scaler', StandardScaler()),         \n",
    "         ('svc', SVC(kernel = 'linear',\n",
    "                     class_weight='balanced'))]\n",
    "\n",
    "svcL_pipeline = Pipeline(steps)\n",
    "svcL_pipeline.fit(X_train, y_train)\n",
    "\n",
    "## Polynomial Kernel -----------------------\n",
    "steps = [('scaler', StandardScaler()),         \n",
    "         ('svc', SVC(kernel = 'poly', degree = 3, \n",
    "                     class_weight='balanced'))]\n",
    "\n",
    "svcPoly_pipeline = Pipeline(steps)\n",
    "svcPoly_pipeline.fit(X_train, y_train)\n",
    "\n",
    "## RBF Kernel -----------------------\n",
    "steps = [('scaler', StandardScaler()),         \n",
    "         ('svc', SVC(kernel = 'rbf', gamma = 'scale',\n",
    "                     class_weight='balanced'))]\n",
    "\n",
    "svcRBF_pipeline = Pipeline(steps)\n",
    "svcRBF_pipeline.fit(X_train, y_train)"
   ]
  },
  {
   "cell_type": "code",
   "execution_count": null,
   "metadata": {},
   "outputs": [],
   "source": []
  }
 ],
 "metadata": {
  "kernelspec": {
   "display_name": "Python 3",
   "language": "python",
   "name": "python3"
  },
  "language_info": {
   "codemirror_mode": {
    "name": "ipython",
    "version": 3
   },
   "file_extension": ".py",
   "mimetype": "text/x-python",
   "name": "python",
   "nbconvert_exporter": "python",
   "pygments_lexer": "ipython3",
   "version": "3.9.13"
  },
  "orig_nbformat": 4,
  "vscode": {
   "interpreter": {
    "hash": "ebfc0a8d552866b0d59eba665220a57de3bc06f3ac643b8bef38dd8f66781fdd"
   }
  }
 },
 "nbformat": 4,
 "nbformat_minor": 2
}
