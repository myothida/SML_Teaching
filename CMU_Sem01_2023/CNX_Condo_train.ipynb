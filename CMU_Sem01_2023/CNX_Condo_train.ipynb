{
  "cells": [
    {
      "cell_type": "code",
      "execution_count": 1,
      "metadata": {
        "id": "7KSSlWKYlHPW"
      },
      "outputs": [],
      "source": [
        "import pandas as pd\n",
        "import pickle\n",
        "\n",
        "df = pd.read_csv('CNX_HousePrice.csv')\n",
        "df = df[df['Location'] == 'nimman']\n",
        "\n",
        "y = df['price']\n",
        "X = df.drop(['price', 'per_sqm_price', 'Location'], axis = 'columns')"
      ]
    },
    {
      "cell_type": "code",
      "execution_count": 2,
      "metadata": {
        "id": "1VO_zgyxOemG"
      },
      "outputs": [],
      "source": [
        "from sklearn.model_selection import train_test_split\n",
        "\n",
        "X_train, X_test, y_train, y_test = train_test_split(X,y, test_size = 0.3, random_state = 42)"
      ]
    },
    {
      "cell_type": "code",
      "execution_count": 3,
      "metadata": {
        "id": "3oJp8VqYOemF"
      },
      "outputs": [
        {
          "name": "stderr",
          "output_type": "stream",
          "text": [
            "c:\\Users\\User\\anaconda3\\lib\\site-packages\\sklearn\\linear_model\\_coordinate_descent.py:647: ConvergenceWarning: Objective did not converge. You might want to increase the number of iterations, check the scale of the features or consider increasing regularisation. Duality gap: 1.129e+13, tolerance: 6.302e+09\n",
            "  model = cd_fast.enet_coordinate_descent(\n"
          ]
        },
        {
          "data": {
            "text/html": [
              "<div>\n",
              "<style scoped>\n",
              "    .dataframe tbody tr th:only-of-type {\n",
              "        vertical-align: middle;\n",
              "    }\n",
              "\n",
              "    .dataframe tbody tr th {\n",
              "        vertical-align: top;\n",
              "    }\n",
              "\n",
              "    .dataframe thead th {\n",
              "        text-align: right;\n",
              "    }\n",
              "</style>\n",
              "<table border=\"1\" class=\"dataframe\">\n",
              "  <thead>\n",
              "    <tr style=\"text-align: right;\">\n",
              "      <th></th>\n",
              "      <th>Linear Regression</th>\n",
              "      <th>Ridge Regression</th>\n",
              "      <th>Lasso Regression</th>\n",
              "      <th>Random Forest Regression</th>\n",
              "    </tr>\n",
              "  </thead>\n",
              "  <tbody>\n",
              "    <tr>\n",
              "      <th>mae_train</th>\n",
              "      <td>4.145304e+05</td>\n",
              "      <td>555506.89</td>\n",
              "      <td>569967.50</td>\n",
              "      <td>454524.07</td>\n",
              "    </tr>\n",
              "    <tr>\n",
              "      <th>r2_train</th>\n",
              "      <td>7.600000e-01</td>\n",
              "      <td>0.66</td>\n",
              "      <td>0.64</td>\n",
              "      <td>0.77</td>\n",
              "    </tr>\n",
              "    <tr>\n",
              "      <th>mae_test</th>\n",
              "      <td>1.467571e+08</td>\n",
              "      <td>81711357.08</td>\n",
              "      <td>12798796.48</td>\n",
              "      <td>794534.24</td>\n",
              "    </tr>\n",
              "    <tr>\n",
              "      <th>r2_test</th>\n",
              "      <td>-3.398881e+05</td>\n",
              "      <td>-113625.38</td>\n",
              "      <td>-2245.31</td>\n",
              "      <td>-0.02</td>\n",
              "    </tr>\n",
              "  </tbody>\n",
              "</table>\n",
              "</div>"
            ],
            "text/plain": [
              "           Linear Regression  Ridge Regression  Lasso Regression  \\\n",
              "mae_train       4.145304e+05         555506.89         569967.50   \n",
              "r2_train        7.600000e-01              0.66              0.64   \n",
              "mae_test        1.467571e+08       81711357.08       12798796.48   \n",
              "r2_test        -3.398881e+05        -113625.38          -2245.31   \n",
              "\n",
              "           Random Forest Regression  \n",
              "mae_train                 454524.07  \n",
              "r2_train                       0.77  \n",
              "mae_test                  794534.24  \n",
              "r2_test                       -0.02  "
            ]
          },
          "execution_count": 3,
          "metadata": {},
          "output_type": "execute_result"
        }
      ],
      "source": [
        "from sklearn.preprocessing import StandardScaler, PolynomialFeatures\n",
        "from sklearn.impute import SimpleImputer\n",
        "\n",
        "from sklearn.pipeline import Pipeline\n",
        "from sklearn.linear_model import LinearRegression, Ridge, Lasso\n",
        "from sklearn.tree import DecisionTreeRegressor\n",
        "from sklearn.ensemble import RandomForestRegressor\n",
        "from sklearn.metrics import mean_absolute_error, mean_squared_error, r2_score\n",
        "\n",
        "regressors = {\n",
        "    'Linear Regression': LinearRegression(),\n",
        "    'Ridge Regression': Ridge(),\n",
        "    'Lasso Regression': Lasso(),\n",
        "    'Random Forest Regression': RandomForestRegressor()\n",
        "}\n",
        "\n",
        "pipelines = {}\n",
        "for name, regressor in regressors.items():\n",
        "    pipeline = Pipeline([\n",
        "        ('scaler', StandardScaler()),\n",
        "        ('transform', PolynomialFeatures(degree=5)),\n",
        "        ('regressor', regressor)\n",
        "    ])\n",
        "    pipelines[name] = pipeline\n",
        "\n",
        "results = {}\n",
        "for name, pipeline in pipelines.items():\n",
        "    model = pipeline.fit(X_train, y_train)\n",
        "    y_pred = model.predict(X_train)\n",
        "    mae = mean_absolute_error(y_train, y_pred)\n",
        "\n",
        "\n",
        "    r2 = r2_score(y_train,y_pred)\n",
        "    \n",
        "    y_predt = model.predict(X_test)\n",
        "    maet = mean_absolute_error(y_test, y_predt)\n",
        "\n",
        "\n",
        "    r2t = r2_score(y_test,y_predt)\n",
        "    results[name] = [mae, r2, maet, r2t] \n",
        "    \n",
        "\n",
        "df_result = pd.DataFrame(results)\n",
        "df_result = df_result.round(2)\n",
        "df_result.index = ['mae_train', 'r2_train', 'mae_test', 'r2_test']\n",
        "df_result"
      ]
    },
    {
      "cell_type": "code",
      "execution_count": 6,
      "metadata": {},
      "outputs": [],
      "source": [
        "steps = [(\"imp_mean\", SimpleImputer()), #cleaning the data by replacing missing values with avg\n",
        "         (\"scale\", StandardScaler()), # standardize in the same range (m,var)\n",
        "         (\"polytransform\", PolynomialFeatures(degree =2)), \n",
        "         (\"regressor\", RandomForestRegressor()) ]\n",
        "\n",
        "pipeline = Pipeline(steps)\n",
        "\n",
        "model = pipeline.fit(X_train, y_train)\n",
        "\n"
      ]
    },
    {
      "cell_type": "code",
      "execution_count": 5,
      "metadata": {},
      "outputs": [],
      "source": [
        "\n",
        "with open('CNX_BestModel.pkl', 'wb') as model_file:\n",
        "   pickle.dump(model, model_file)"
      ]
    }
  ],
  "metadata": {
    "colab": {
      "provenance": []
    },
    "kernelspec": {
      "display_name": "base",
      "language": "python",
      "name": "python3"
    },
    "language_info": {
      "codemirror_mode": {
        "name": "ipython",
        "version": 3
      },
      "file_extension": ".py",
      "mimetype": "text/x-python",
      "name": "python",
      "nbconvert_exporter": "python",
      "pygments_lexer": "ipython3",
      "version": "3.9.13"
    },
    "orig_nbformat": 4
  },
  "nbformat": 4,
  "nbformat_minor": 0
}
